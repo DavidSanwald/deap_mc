{
 "cells": [
  {
   "cell_type": "code",
   "execution_count": 397,
   "metadata": {
    "collapsed": false
   },
   "outputs": [],
   "source": [
    "#: imports, nothing to see here\n",
    "import random\n",
    "from collections import defaultdict, namedtuple, deque\n",
    "from itertools import product, starmap\n",
    "\n",
    "import matplotlib.pyplot as plt\n",
    "import numpy as np\n",
    "from IPython.display import Image\n",
    "from matplotlib import animation\n",
    "import copy\n",
    "\n",
    "\n",
    "from keras.models import Sequential\n",
    "from keras.layers.core import Dense, Activation\n",
    "from keras.layers.normalization import BatchNormalization\n",
    "\n",
    "from keras.optimizers import RMSprop\n",
    "\n",
    "\n",
    "from numpy import sin, cos\n",
    "\n",
    "%matplotlib inline\n",
    "\n",
    "random.seed(1)"
   ]
  },
  {
   "cell_type": "code",
   "execution_count": 398,
   "metadata": {
    "collapsed": false
   },
   "outputs": [
    {
     "data": {
      "text/plain": [
       "\"\\ndt = 0.01\\nmu = 0.5\\ngoal_state = State(0, 11)\\nstart_state = State(0, 0)\\n\\nterminal = cliff_states + [goal_state]\\ndflt_reward = -1\\ncliff_reward = -100\\n\\na = {'<': -1, 'O': 0, '>': 1}\\n\\nparameters = {'all_states': all_states,\\n              'cliff_states': cliff_states,\\n              'goal_state': goal_state,\\n              'start_state': start_state,\\n              'terminal': terminal,\\n              'dflt_reward': dflt_reward,\\n              'cliff_reward': cliff_reward,\\n              'moves': moves}\\n\""
      ]
     },
     "execution_count": 398,
     "metadata": {},
     "output_type": "execute_result"
    }
   ],
   "source": [
    "State = namedtuple('S', ['p', 'v'])\n",
    "\"\"\"\n",
    "dt = 0.01\n",
    "mu = 0.5\n",
    "goal_state = State(0, 11)\n",
    "start_state = State(0, 0)\n",
    "\n",
    "terminal = cliff_states + [goal_state]\n",
    "dflt_reward = -1\n",
    "cliff_reward = -100\n",
    "\n",
    "a = {'<': -1, 'O': 0, '>': 1}\n",
    "\n",
    "parameters = {'all_states': all_states,\n",
    "              'cliff_states': cliff_states,\n",
    "              'goal_state': goal_state,\n",
    "              'start_state': start_state,\n",
    "              'terminal': terminal,\n",
    "              'dflt_reward': dflt_reward,\n",
    "              'cliff_reward': cliff_reward,\n",
    "              'moves': moves}\n",
    "\"\"\""
   ]
  },
  {
   "cell_type": "code",
   "execution_count": 429,
   "metadata": {
    "collapsed": true
   },
   "outputs": [],
   "source": [
    "class MountainCar:\n",
    "    def __init__(self):\n",
    "        self._start_state = (random.uniform(-1.2, 0.5),\n",
    "                             random.uniform(-0.07, 0.07))\n",
    "        self._actions = [0, 1, -1]\n",
    "        self.g = -0.0025\n",
    "        self.log_state = []\n",
    "        self.log_rewards = []\n",
    "        self.rewards = 0\n",
    "\n",
    "    def newstate(self, state, a):\n",
    "        v_dot = (a ) * 0.001 + cos(3 * state.p) * (-0.0025)\n",
    "        v_new = np.clip(state.v + v_dot, -0.07, 0.07)\n",
    "        p_new = np.clip(state.p + v_new, -1.2, 0.6)\n",
    "        if (p_new == -1.2 and v_new < 0):\n",
    "            v_new = 0\n",
    "        state_new = State(p=p_new, v=v_new)\n",
    "        self.log_state.append(state_new)\n",
    "        return state_new\n",
    "\n",
    "    def is_terminal(self, state):\n",
    "        if state.p >= 0.5:\n",
    "            self.log_rewards.append(self.rewards)\n",
    "            self.rewards = 0\n",
    "            return True\n",
    "        else:\n",
    "            return False\n",
    "\n",
    "    def reward(self, state):\n",
    "        if state.p >= 0.5 :\n",
    "            reward = 0\n",
    "        else:\n",
    "            reward = -1\n",
    "        self.rewards+= reward\n",
    "        return reward\n",
    "    def compute_start_state(self):\n",
    "        p = 0\n",
    "        v = 0\n",
    "        start_state = State(p=p, v=v)\n",
    "        self.log_state.append(start_state)\n",
    "        return start_state"
   ]
  },
  {
   "cell_type": "code",
   "execution_count": 437,
   "metadata": {
    "collapsed": true
   },
   "outputs": [],
   "source": [
    "def make_model():\n",
    "    model = Sequential()\n",
    "    rms = RMSprop()\n",
    "    model.add(Dense(32, input_shape=(2,), init='zero', bias=True))\n",
    "    model.add(BatchNormalization())\n",
    "    model.add(Activation('relu'))\n",
    "    model.add(Dense(64, init='zero', bias=True))\n",
    "    model.add(BatchNormalization())\n",
    "    model.add(Activation('relu'))\n",
    "    model.add(Dense(64, init='zero', bias=True))\n",
    "    model.add(BatchNormalization())\n",
    "    model.add(Activation('relu'))\n",
    "    model.add(Dense(3, init='zero',bias=True))\n",
    "    model.add(BatchNormalization())\n",
    "    model.add(Activation('linear'))\n",
    "    model.compile(loss='mse', optimizer=rms)\n",
    "    return model\n",
    "\n",
    "\n",
    "class QAgent:\n",
    "    def __init__(self,\n",
    "                 env,\n",
    "                 model,\n",
    "                 alpha=0.001,\n",
    "                 epsilon=1,\n",
    "                 gamma=0.99,\n",
    "                 buffer_size=300,\n",
    "                 batch_size=32):\n",
    "        self.epsilon = epsilon\n",
    "        self.alpha = alpha\n",
    "        self.gamma = gamma\n",
    "        self.reward_total = 0\n",
    "        self.Q = make_model()\n",
    "        self.buffer_size = buffer_size\n",
    "        self.memory = deque(maxlen=1000)\n",
    "        self.batch_size = batch_size\n",
    "        self.actions = [-1, 0, 1]\n",
    "        self.env = env\n",
    "        self.log = []\n",
    "        self.log_sum = []\n",
    "\n",
    "    def act(self, state):\n",
    "        if random.random() > self.epsilon:\n",
    "            return self.greedy_action(state)\n",
    "        else:\n",
    "            return self.random_action(state)\n",
    "\n",
    "    def make_batch(self):\n",
    "        if len(self.memory)>= self.buffer_size:\n",
    "            batch = random.sample(self.memory, self.batch_size)\n",
    "            X_train = []\n",
    "            y_train = []\n",
    "            for state, action, newstate, reward in batch:\n",
    "                s = np.asarray(state).reshape(1,2)\n",
    "                X_train.append(s)\n",
    "                y = self.Q.predict(s)[0]\n",
    "                if reward == 0:\n",
    "                    y[action] = reward\n",
    "                    y_train.append(y)\n",
    "                else:\n",
    "                    ns = np.asarray(newstate).reshape(1,2)\n",
    "                    Q_sa = np.max(self.Q.predict(ns)[0])\n",
    "                    y[action] = reward + self.gamma * Q_sa\n",
    "                    y_train.append(y)\n",
    "            return np.vstack(X_train), np.vstack(y_train)\n",
    "\n",
    "    def flashback(self):\n",
    "        if len(self.memory)>= self.buffer_size:\n",
    "            X, y = self.make_batch()\n",
    "            loss = self.Q.fit(X, y, verbose=0)\n",
    "\n",
    "\n",
    "    def random_action(self, state):\n",
    "        choice = np.random.choice([-1,0,1])\n",
    "        return choice\n",
    "\n",
    "    def greedy_action(self, state):\n",
    "        s = np.asarray(state).reshape(1,2)\n",
    "        Qs = self.Q.predict(s)[0]\n",
    "        action = np.argmax(Qs)\n",
    "        return action\n",
    "\n",
    "    def remember(self, state, action, newstate, reward):\n",
    "        self.memory.append((state, action, newstate, reward))\n",
    "        self.log.append((state[0], state[1]))\n",
    "        if reward == 0:\n",
    "            self.log_sum.append(self.log)\n",
    "            self.log = []\n",
    "\n",
    "    def save_net(self):\n",
    "        self.Q.save('backup.h5')\n",
    "        pass"
   ]
  },
  {
   "cell_type": "code",
   "execution_count": 438,
   "metadata": {
    "collapsed": true
   },
   "outputs": [],
   "source": [
    "def run_episode(domain, agent):\n",
    "    state = domain.compute_start_state()\n",
    "    step = 0\n",
    "    while not domain.is_terminal(state):\n",
    "        action = agent.act(state)    #: Take the current state as input and compute an action.\n",
    "        newstate = domain.newstate(state, action)   #: Take the action and compute the changed state.\n",
    "        reward = domain.reward(newstate)\n",
    "        agent.remember(state, action, newstate, reward)#: Learn.\n",
    "        agent.flashback()\n",
    "        state = newstate                            #: Newstate becomes the current state for next iteration.\n",
    "        step +=1\n",
    "    print('WIN')\n",
    "    print(step)\n",
    "    pass"
   ]
  },
  {
   "cell_type": "code",
   "execution_count": 439,
   "metadata": {
    "collapsed": true
   },
   "outputs": [],
   "source": [
    "def run_random(domain, agent):\n",
    "    state = domain.compute_start_state()\n",
    "    step = 0\n",
    "    while not domain.is_terminal(state):\n",
    "        action = agent.act(state)    #: Take the current state as input and compute an action.\n",
    "        newstate = domain.newstate(state, action)   #: Take the action and compute the changed state.\n",
    "        reward = domain.reward(newstate)\n",
    "        state = newstate                            #: Newstate becomes the current state for next iteration.\n",
    "        step+=1\n",
    "    pass\n"
   ]
  },
  {
   "cell_type": "code",
   "execution_count": 440,
   "metadata": {
    "collapsed": false
   },
   "outputs": [],
   "source": [
    "domain = MountainCar()\n",
    "model = make_model()\n",
    "agent = QAgent(domain, model)\n"
   ]
  },
  {
   "cell_type": "code",
   "execution_count": 441,
   "metadata": {
    "collapsed": false
   },
   "outputs": [],
   "source": [
    "def run_experiment(domain, agent, epsilon_decay, n_episodes):\n",
    "    for i in range(5):\n",
    "        run_random(domain, agent)\n",
    "    agent.epsilon= 0.8\n",
    "    print('Yo Random Ende')\n",
    "    for i in range(n_episodes):\n",
    "        agent.epsilon *= epsilon_decay\n",
    "        run_episode(domain, agent)\n",
    "        if i % 10==0:\n",
    "            print(i)\n",
    "    print('Setting epsilon paramter to zero',\n",
    "          'to prevent random actions and evaluate learned policy.\\n')\n",
    "    agent.epsilon = 0\n",
    "    run_episode(domain, agent)                    \n",
    "    pass"
   ]
  },
  {
   "cell_type": "code",
   "execution_count": 442,
   "metadata": {
    "collapsed": false
   },
   "outputs": [],
   "source": [
    "n_episodes = 2000\n",
    "epsilon_decay = 0.9"
   ]
  },
  {
   "cell_type": "code",
   "execution_count": null,
   "metadata": {
    "collapsed": false
   },
   "outputs": [
    {
     "name": "stdout",
     "output_type": "stream",
     "text": [
      "Yo Random Ende\n",
      "WIN\n",
      "373\n",
      "0\n"
     ]
    }
   ],
   "source": [
    "run_experiment(domain, agent, epsilon_decay, n_episodes)"
   ]
  },
  {
   "cell_type": "code",
   "execution_count": null,
   "metadata": {
    "collapsed": false
   },
   "outputs": [],
   "source": []
  },
  {
   "cell_type": "code",
   "execution_count": 72,
   "metadata": {
    "collapsed": false
   },
   "outputs": [
    {
     "ename": "NameError",
     "evalue": "name 'x_p' is not defined",
     "output_type": "error",
     "traceback": [
      "\u001b[1;31m---------------------------------------------------------------------------\u001b[0m",
      "\u001b[1;31mNameError\u001b[0m                                 Traceback (most recent call last)",
      "\u001b[1;32m<ipython-input-72-fca29f52ca21>\u001b[0m in \u001b[0;36m<module>\u001b[1;34m()\u001b[0m\n\u001b[0;32m      2\u001b[0m \u001b[0my\u001b[0m \u001b[1;33m=\u001b[0m \u001b[0mnp\u001b[0m\u001b[1;33m.\u001b[0m\u001b[0msin\u001b[0m\u001b[1;33m(\u001b[0m\u001b[1;36m3\u001b[0m\u001b[1;33m*\u001b[0m\u001b[0mx\u001b[0m\u001b[1;33m)\u001b[0m\u001b[1;33m\u001b[0m\u001b[0m\n\u001b[0;32m      3\u001b[0m \u001b[0my_p\u001b[0m \u001b[1;33m=\u001b[0m \u001b[0msin\u001b[0m\u001b[1;33m(\u001b[0m\u001b[1;36m3\u001b[0m\u001b[1;33m*\u001b[0m\u001b[0mp_i\u001b[0m\u001b[1;33m)\u001b[0m\u001b[1;33m*\u001b[0m\u001b[1;36m0.45\u001b[0m\u001b[1;33m\u001b[0m\u001b[0m\n\u001b[1;32m----> 4\u001b[1;33m \u001b[0mx_p\u001b[0m\u001b[1;33m\u001b[0m\u001b[0m\n\u001b[0m",
      "\u001b[1;31mNameError\u001b[0m: name 'x_p' is not defined"
     ]
    }
   ],
   "source": [
    "x = np.arange(-1.5, 0.7, 0.001)\n",
    "y = np.sin(3*x)\n",
    "y_p = sin(3*p_i)*0.45\n",
    "x_p\n",
    "\n"
   ]
  },
  {
   "cell_type": "code",
   "execution_count": 123,
   "metadata": {
    "collapsed": false
   },
   "outputs": [
    {
     "data": {
      "image/png": "[encoded data removed]",
      "text/plain": [
       "<matplotlib.figure.Figure at 0x7ff84e8f3eb8>"
      ]
     },
     "metadata": {},
     "output_type": "display_data"
    }
   ],
   "source": [
    "y_p = [ sin(3*x) for x in p_i]\n",
    "fig = plt.figure()\n",
    "fig.set_dpi(100)\n",
    "fig.set_size_inches(7, 7)\n",
    "\n",
    "ax = plt.axes(xlim=(-1.5, 0.5), ylim=(-2, 2))\n",
    "x = np.linspace(-1.2, 0.6, 100)\n",
    "y = np.sin(3*x)\n",
    "ax.plot(x,y)\n",
    "patch = plt.Circle((p_i[0], y_p[0]), 0.1, fc='y')\n",
    "goal = plt.Circle((0.5, sin(3*0.5)), 0.1, fc='y')\n",
    "ax.add_patch(patch)\n",
    "ax.add_patch(goal)\n",
    "plt.axis('equal')\n",
    "\n",
    "def init():\n",
    "    x = np.arange(-1.5, 0.7, 0.001)\n",
    "    y = np.sin(3*x)*0.45\n",
    "    patch.center = (p_i[0], y_p[0])\n",
    "    ax.add_patch(patch)\n",
    "    return patch,\n",
    "\n",
    "def animate(i):\n",
    "    patch.center = (p_i[i], y_p[i])\n",
    "    return patch,\n",
    "\n",
    "anim = animation.FuncAnimation(fig, animate, \n",
    "                               init_func=init, \n",
    "                               frames  =len(p_i), \n",
    "                               interval=1,\n",
    "                               blit=True)\n",
    "\n",
    "anim.save('animation.mp4', fps=30, \n",
    "          extra_args=['-vcodec', 'h264', \n",
    "                      '-pix_fmt', 'yuv420p'])\n",
    "\n",
    "\n",
    "\n",
    "plt.show()"
   ]
  },
  {
   "cell_type": "code",
   "execution_count": 124,
   "metadata": {
    "collapsed": false
   },
   "outputs": [
    {
     "data": {
      "text/html": [
       "\n",
       "<video width=\"640\" height=\"480\" controls>\n",
       "  <source src= \"animation.ogv\" type=\"video/ogg\">\n",
       "  <source src= \"animation.mp4\" type=\"video/mp4\">\n",
       "Your browser does not support the video tag, check out the YouTube version instead: http://youtu.be/SpgBHqW9om0\n",
       "</video>\n"
      ],
      "text/plain": [
       "<IPython.core.display.HTML object>"
      ]
     },
     "execution_count": 124,
     "metadata": {},
     "output_type": "execute_result"
    }
   ],
   "source": [
    "from IPython.display import HTML\n",
    "h = \\\n",
    "\"\"\"\n",
    "<video width=\"640\" height=\"480\" controls>\n",
    "  <source src= \"animation.ogv\" type=\"video/ogg\">\n",
    "  <source src= \"animation.mp4\" type=\"video/mp4\">\n",
    "Your browser does not support the video tag, check out the YouTube version instead: http://youtu.be/SpgBHqW9om0\n",
    "</video>\n",
    "\"\"\"\n",
    "HTML(h)"
   ]
  },
  {
   "cell_type": "code",
   "execution_count": null,
   "metadata": {
    "collapsed": false
   },
   "outputs": [],
   "source": [
    "def make_model():\n",
    "    model = Sequential()\n",
    "    rms = RMSprop()\n",
    "    model.add(Dense(32, input_shape=(2,), init='zero', bias=True))\n",
    "    model.add(BatchNormalization())\n",
    "    model.add(Activation('tanh'))\n",
    "    model.add(Dense(64, init='zero', bias=True))\n",
    "    model.add(BatchNormalization())\n",
    "    model.add(Activation('tanh'))\n",
    "    model.add(Dense(3, init='zero',bias=True))\n",
    "    model.add(BatchNormalization())\n",
    "    model.add(Activation('linear'))\n",
    "    model.compile(loss='mse', optimizer=rms)\n",
    "    return model\n",
    "\n",
    "\n",
    "class QAgent:\n",
    "    def __init__(self,\n",
    "                 env,\n",
    "                 model,\n",
    "                 alpha=0.001,\n",
    "                 epsilon=0.99,\n",
    "                 gamma=0.99,\n",
    "                 buffer_size=100,\n",
    "                 batch_size=16):\n",
    "        self.epsilon = epsilon\n",
    "        self.alpha = alpha\n",
    "        self.gamma = gamma\n",
    "        self.reward_total = 0\n",
    "        self.Q = make_model()\n",
    "        self.buffer_size = buffer_size\n",
    "        self.memory = deque(maxlen=10000000)\n",
    "        self.actions = [-1, 0, 1]\n",
    "        self.env = env\n",
    "        self.log = []\n",
    "        self.log_sum = []\n",
    "\n",
    "    def act(self, state):\n",
    "        if random.random() > self.epsilon:\n",
    "            return self.greedy_action(state)\n",
    "        else:\n",
    "            return self.random_action(state)\n",
    "\n",
    "    def make_batch(self):\n",
    "        if len(self.memory)>= self.buffer_size:\n",
    "            batch = random.sample(self.memory, self.batch_size)\n",
    "            X_train = []\n",
    "            y_train = []\n",
    "            for state, action, newstate, reward in batch:\n",
    "                s = np.asarray(state).reshape(1,2)\n",
    "                X_train.append(s)\n",
    "                y = self.Q.predict(s)[0]\n",
    "                if reward == 0:\n",
    "                    y[action] = reward\n",
    "                    y_train.append(y)\n",
    "                else:\n",
    "                    ns = np.asarray(newstate).reshape(1,2)\n",
    "                    Q_sa = np.max(self.Q.predict(ns)[0])\n",
    "                    y[action] = reward + self.gamma * Q_sa\n",
    "                    y_train.append(y)\n",
    "            return np.vstack(X_train), np.vstack(y_train)\n",
    "\n",
    "    def flashback(self):\n",
    "        if len(self.memory)>= self.buffer_size:\n",
    "            X, y = self.make_batch()\n",
    "            loss = self.Q.fit(X, y, verbose=0)\n",
    "\n",
    "\n",
    "    def random_action(self, state):\n",
    "        choice = np.random.choice([-1,0,1])\n",
    "        return choice\n",
    "\n",
    "    def greedy_action(self, state):\n",
    "        s = np.asarray(state).reshape(1,2)\n",
    "        Qs = self.Q.predict(s)[0]\n",
    "        action = np.argmax(Qs)\n",
    "        return action\n",
    "\n",
    "    def remember(self, state, action, newstate, reward):\n",
    "        self.memory.append((state, action, newstate, reward))\n",
    "        self.log.append((state[0], state[1]))\n",
    "        if reward == 0:\n",
    "            self.log_sum.append(self.log)\n",
    "            self.log = []\n",
    "\n",
    "    def save_net(self):\n",
    "        self.Q.save('backup.h5')\n",
    "        pass"
   ]
  },
  {
   "cell_type": "code",
   "execution_count": 14,
   "metadata": {
    "collapsed": true
   },
   "outputs": [],
   "source": []
  },
  {
   "cell_type": "code",
   "execution_count": 15,
   "metadata": {
    "collapsed": true
   },
   "outputs": [],
   "source": [
    "env = MountainCar()"
   ]
  },
  {
   "cell_type": "code",
   "execution_count": 16,
   "metadata": {
    "collapsed": true
   },
   "outputs": [],
   "source": [
    "agent = QAgent"
   ]
  },
  {
   "cell_type": "code",
   "execution_count": null,
   "metadata": {
    "collapsed": true
   },
   "outputs": [],
   "source": []
  }
 ],
 "metadata": {
  "anaconda-cloud": {},
  "kernelspec": {
   "display_name": "Python 3",
   "language": "python",
   "name": "python3"
  },
  "language_info": {
   "codemirror_mode": {
    "name": "ipython",
    "version": 3
   },
   "file_extension": ".py",
   "mimetype": "text/x-python",
   "name": "python",
   "nbconvert_exporter": "python",
   "pygments_lexer": "ipython3",
   "version": "3.5.1"
  }
 },
 "nbformat": 4,
 "nbformat_minor": 0
}
